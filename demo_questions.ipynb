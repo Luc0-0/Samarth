{
 "cells": [
  {
   "cell_type": "markdown",
   "metadata": {},
   "source": [
    "# Project Samarth Phase 2 Demo\n",
    "## Intelligent Q&A System for Indian Agriculture and Climate Data\n",
    "\n",
    "This notebook demonstrates the end-to-end functionality of the Q&A system with sample questions."
   ]
  },
  {
   "cell_type": "code",
   "execution_count": null,
   "metadata": {},
   "outputs": [],
   "source": [
    "import requests\n",
    "import json\n",
    "import pandas as pd\n",
    "from IPython.display import display, Markdown\n",
    "\n",
    "# API endpoint\n",
    "API_BASE = \"http://localhost:8000\"\n",
    "\n",
    "def ask_question(question):\n",
    "    \"\"\"Send question to API and return response\"\"\"\n",
    "    try:\n",
    "        response = requests.post(f\"{API_BASE}/ask\", json={\"question\": question})\n",
    "        return response.json()\n",
    "    except Exception as e:\n",
    "        return {\"error\": str(e)}\n",
    "\n",
    "def display_answer(response):\n",
    "    \"\"\"Display formatted answer\"\"\"\n",
    "    if \"error\" in response:\n",
    "        print(f\"Error: {response['error']}\")\n",
    "        return\n",
    "        \n",
    "    print(\"=\" * 80)\n",
    "    print(\"ANSWER:\")\n",
    "    print(\"=\" * 80)\n",
    "    print(response['answer_text'])\n",
    "    print()\n",
    "    \n",
    "    if response['structured_results']:\n",
    "        print(\"STRUCTURED RESULTS:\")\n",
    "        print(\"-\" * 40)\n",
    "        df = pd.DataFrame(response['structured_results'])\n",
    "        display(df)\n",
    "        print()\n",
    "    \n",
    "    print(\"CITATIONS:\")\n",
    "    print(\"-\" * 40)\n",
    "    for i, citation in enumerate(response['citations'], 1):\n",
    "        print(f\"{i}. {citation['dataset_title']}\")\n",
    "        print(f\"   Publisher: {citation.get('publisher', 'Unknown')}\")\n",
    "        print(f\"   URL: {citation['resource_url']}\")\n",
    "        print()\n",
    "    \n",
    "    if 'processing_info' in response:\n",
    "        print(f\"Processing time: {response['processing_info']['processing_time_ms']:.1f}ms\")\n",
    "    print(\"=\" * 80)\n",
    "    print()"
   ]
  },
  {
   "cell_type": "markdown",
   "metadata": {},
   "source": [
    "## Test Case 1: State Comparison\n",
    "Compare average annual rainfall between Maharashtra and Punjab"
   ]
  },
  {
   "cell_type": "code",
   "execution_count": null,
   "metadata": {},
   "outputs": [],
   "source": [
    "question1 = \"Compare the average annual rainfall in Maharashtra and Punjab for the last 5 years.\"\n",
    "print(f\"QUESTION: {question1}\")\n",
    "print()\n",
    "\n",
    "response1 = ask_question(question1)\n",
    "display_answer(response1)"
   ]
  },
  {
   "cell_type": "markdown",
   "metadata": {},
   "source": [
    "## Test Case 2: Ranking Query\n",
    "Find the district with highest crop production"
   ]
  },
  {
   "cell_type": "code",
   "execution_count": null,
   "metadata": {},
   "outputs": [],
   "source": [
    "question2 = \"Identify the district in Maharashtra with the highest production of Rice in the most recent year.\"\n",
    "print(f\"QUESTION: {question2}\")\n",
    "print()\n",
    "\n",
    "response2 = ask_question(question2)\n",
    "display_answer(response2)"
   ]
  },
  {
   "cell_type": "markdown",
   "metadata": {},
   "source": [
    "## Test Case 3: Correlation Analysis\n",
    "Analyze relationship between rainfall and crop production"
   ]
  },
  {
   "cell_type": "code",
   "execution_count": null,
   "metadata": {},
   "outputs": [],
   "source": [
    "question3 = \"Analyze the production trend of Wheat in Punjab over the last decade and correlate it with rainfall.\"\n",
    "print(f\"QUESTION: {question3}\")\n",
    "print()\n",
    "\n",
    "response3 = ask_question(question3)\n",
    "display_answer(response3)"
   ]
  },
  {
   "cell_type": "markdown",
   "metadata": {},
   "source": [
    "## Additional Test Cases"
   ]
  },
  {
   "cell_type": "code",
   "execution_count": null,
   "metadata": {},
   "outputs": [],
   "source": [
    "# Test trend analysis\n",
    "question4 = \"Show me the rainfall trend in Gujarat from 2010 to 2014.\"\n",
    "print(f\"QUESTION: {question4}\")\n",
    "print()\n",
    "\n",
    "response4 = ask_question(question4)\n",
    "display_answer(response4)"
   ]
  },
  {
   "cell_type": "code",
   "execution_count": null,
   "metadata": {},
   "outputs": [],
   "source": [
    "# Test general aggregation\n",
    "question5 = \"What is the average cotton production across all states?\"\n",
    "print(f\"QUESTION: {question5}\")\n",
    "print()\n",
    "\n",
    "response5 = ask_question(question5)\n",
    "display_answer(response5)"
   ]
  },
  {
   "cell_type": "markdown",
   "metadata": {},
   "source": [
    "## Save Demo Results"
   ]
  },
  {
   "cell_type": "code",
   "execution_count": null,
   "metadata": {},
   "outputs": [],
   "source": [
    "# Save all results to JSON file\n",
    "demo_results = {\n",
    "    \"test_cases\": [\n",
    "        {\"question\": question1, \"response\": response1},\n",
    "        {\"question\": question2, \"response\": response2},\n",
    "        {\"question\": question3, \"response\": response3},\n",
    "        {\"question\": question4, \"response\": response4},\n",
    "        {\"question\": question5, \"response\": response5}\n",
    "    ],\n",
    "    \"summary\": {\n",
    "        \"total_questions\": 5,\n",
    "        \"successful_responses\": sum(1 for _, r in [(question1, response1), (question2, response2), (question3, response3), (question4, response4), (question5, response5)] if \"error\" not in r),\n",
    "        \"datasets_used\": list(set([c['dataset_title'] for _, r in [(question1, response1), (question2, response2), (question3, response3), (question4, response4), (question5, response5)] if \"citations\" in r for c in r['citations']]))\n",
    "    }\n",
    "}\n",
    "\n",
    "with open('demo_results.json', 'w') as f:\n",
    "    json.dump(demo_results, f, indent=2)\n",
    "\n",
    "print(\"Demo results saved to demo_results.json\")\n",
    "print(f\"Summary: {demo_results['summary']}\")"
   ]
  }
 ],
 "metadata": {
  "kernelspec": {
   "display_name": "Python 3",
   "language": "python",
   "name": "python3"
  },
  "language_info": {
   "codemirror_mode": {
    "name": "ipython",
    "version": 3
   },
   "file_extension": ".py",
   "mimetype": "text/x-python",
   "name": "python",
   "nbconvert_exporter": "python",
   "pygments_lexer": "ipython3",
   "version": "3.11.0"
  }
 },
 "nbformat": 4,
 "nbformat_minor": 4
}